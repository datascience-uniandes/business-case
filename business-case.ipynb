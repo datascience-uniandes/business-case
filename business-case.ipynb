{
 "cells": [
  {
   "cell_type": "markdown",
   "metadata": {},
   "source": [
    "<a href=\"https://colab.research.google.com/github/datascience-uniandes/business-case/blob/master/business-case.ipynb\" target=\"_parent\"><img src=\"https://colab.research.google.com/assets/colab-badge.svg\" alt=\"Open In Colab\"/></a>"
   ]
  },
  {
   "cell_type": "markdown",
   "metadata": {
    "id": "mts2KYR9TJLx"
   },
   "source": [
    "# Business Case (EDA, KPIs, A/B testing)\n",
    "\n",
    "MINE-4101: Applied Data Science  \n",
    "Univerisdad de los Andes  \n",
    "\n",
    "Last update: September, 2024\n",
    "\n",
    "## 1. Business scenario\n",
    "\n",
    "An e-commerce company aims to improve its product recommendation system to boost sales and enhance customer engagement. The company has developed a new machine learning model and wants to test if it performs better than the existing model. To evaluate the new model's impact, they plan to conduct an A/B test, measuring key performance indicators (KPIs) on a daily basis over a month."
   ]
  },
  {
   "cell_type": "code",
   "execution_count": null,
   "metadata": {
    "id": "l13wggOaTcPT"
   },
   "outputs": [],
   "source": [
    "import matplotlib.pyplot as plt\n",
    "import numpy as np\n",
    "import pandas as pd\n",
    "import seaborn as sns\n",
    "from scipy.stats import ttest_ind, chi2_contingency"
   ]
  },
  {
   "cell_type": "code",
   "execution_count": null,
   "metadata": {},
   "outputs": [],
   "source": [
    "import warnings\n",
    "warnings.filterwarnings('ignore')"
   ]
  },
  {
   "cell_type": "markdown",
   "metadata": {
    "id": "mAmvti3iTSB7"
   },
   "source": [
    "## 2. The dataset\n",
    "\n",
    "Let's create a simulated dataset that includes user interactions, assigned to either the control group (**existing model**) or the treatment group (**new model**). The dataset covers daily data over 30 days, including variables like `user_id`, `date`, `event_type` (view, click, purchase), `group` (control or treatment), and `revenue`."
   ]
  },
  {
   "cell_type": "code",
   "execution_count": null,
   "metadata": {},
   "outputs": [],
   "source": [
    "# Set random seed for reproducibility\n",
    "np.random.seed(42)"
   ]
  },
  {
   "cell_type": "code",
   "execution_count": null,
   "metadata": {},
   "outputs": [],
   "source": [
    "# Simulation parameters\n",
    "num_days = 30\n",
    "dates = pd.date_range(start='2024-01-01', periods=num_days)\n",
    "num_users = 3000  # Total unique users\n",
    "users = np.arange(1000, 1000 + num_users)\n",
    "\n",
    "events_per_day = lambda: np.random.randint(150, 200, size=1)[0]  # Number of events per day per group\n",
    "\n",
    "# Controls whether revenue varies by group\n",
    "revenue_global = True\n",
    "r_revenue_global = (20, 200)\n",
    "\n",
    "# Probabilities for control group\n",
    "p_click_control = 0.15           # 15% chance to click after view\n",
    "p_purchase_control = 0.05        # 5% chance to purchase after click\n",
    "r_revenue_control = (200, 300)   # Revenue by purchase between 200 and 300\n",
    "\n",
    "# Probabilities for treatment group\n",
    "p_click_treatment = 0.25         # 25% chance to click after view\n",
    "p_purchase_treatment = 0.10      # 10% chance to purchase after click\n",
    "r_revenue_treatment = (20, 100)  # Revenue by purchase between 20 and 100"
   ]
  },
  {
   "cell_type": "code",
   "execution_count": null,
   "metadata": {
    "id": "HsNpSL0cdmjK"
   },
   "outputs": [],
   "source": [
    "data_list = []\n",
    "for date in dates:\n",
    "    for group in ['control', 'treatment']:\n",
    "        # Set group parameters\n",
    "        if group == 'control':\n",
    "            p_click = p_click_control\n",
    "            p_purchase = p_purchase_control\n",
    "            r_revenue = r_revenue_control\n",
    "        else:\n",
    "            p_click = p_click_treatment\n",
    "            p_purchase = p_purchase_treatment\n",
    "            r_revenue = r_revenue_treatment\n",
    "\n",
    "        if revenue_global:\n",
    "            r_revenue = r_revenue_global\n",
    "        \n",
    "        # Generate 'view' events\n",
    "        num_views = events_per_day()\n",
    "        user_ids = np.random.choice(users, size=num_views, replace=True)\n",
    "        event_types = np.array(['view'] * num_views, dtype='U10')\n",
    "\n",
    "        # Determine which 'view' events turn into 'clicks'\n",
    "        click_mask = np.random.rand(num_views) < p_click\n",
    "        event_types[click_mask] = 'click'\n",
    "\n",
    "        # For 'click' events, simulate 'purchase' events\n",
    "        purchase_mask = click_mask & (np.random.rand(num_views) < p_purchase)\n",
    "        event_types[purchase_mask] = 'purchase'\n",
    "\n",
    "        # Assign revenue to 'purchase' events\n",
    "        revenues = np.zeros(num_views)\n",
    "        num_purchases = purchase_mask.sum()\n",
    "        revenues[purchase_mask] = np.random.uniform(r_revenue[0], r_revenue[1], size=num_purchases)\n",
    "\n",
    "        # Create DataFrame for current group and date\n",
    "        day_data = pd.DataFrame({\n",
    "            'user_id': user_ids,\n",
    "            'date': date,\n",
    "            'event_type': event_types,\n",
    "            'group': group,\n",
    "            'revenue': revenues\n",
    "        })\n",
    "\n",
    "        data_list.append(day_data)\n",
    "\n",
    "# Combine all daily data into a single DataFrame\n",
    "data = pd.concat(data_list, ignore_index=True)"
   ]
  },
  {
   "cell_type": "markdown",
   "metadata": {
    "id": "Fep0EQvgY84j"
   },
   "source": [
    "## 3. Exploratory Data Analysis (EDA)\n",
    "\n",
    "Minimal validations:\n",
    "- **Data Preview:** Get an initial understanding of the data structure.\n",
    "- **Missing Values:** Check for and handle missing data.\n",
    "- **Event Distribution:** Visualize how events are distributed between control and treatment groups.\n",
    "- **Daily Events:** Analyze the volume of events over time."
   ]
  },
  {
   "cell_type": "code",
   "execution_count": null,
   "metadata": {
    "colab": {
     "base_uri": "https://localhost:8080/",
     "height": 206
    },
    "id": "P1HBqu5wTZwx",
    "outputId": "29762393-9595-4637-f396-e9ce838048cb"
   },
   "outputs": [],
   "source": [
    "data.sample(5)"
   ]
  },
  {
   "cell_type": "code",
   "execution_count": null,
   "metadata": {
    "colab": {
     "base_uri": "https://localhost:8080/",
     "height": 241
    },
    "id": "o2cWnHAeTZp6",
    "outputId": "34a49064-b7db-417b-f2a9-0409a4874559"
   },
   "outputs": [],
   "source": [
    "# Check for missing values\n",
    "data.isnull().sum()"
   ]
  },
  {
   "cell_type": "code",
   "execution_count": null,
   "metadata": {
    "colab": {
     "base_uri": "https://localhost:8080/",
     "height": 472
    },
    "id": "vJi7ufKPUEcf",
    "outputId": "f00af3f6-70bd-4579-bfbe-7d3aedbcfded"
   },
   "outputs": [],
   "source": [
    "# Event type distribution\n",
    "sns.countplot(x='event_type', hue='group', data=data)\n",
    "plt.title('Event type distribution by group')\n",
    "plt.xlabel('Event type')\n",
    "plt.ylabel('Number of events')\n",
    "plt.show()"
   ]
  },
  {
   "cell_type": "code",
   "execution_count": null,
   "metadata": {
    "colab": {
     "base_uri": "https://localhost:8080/",
     "height": 696
    },
    "id": "hZFxc57eTZFA",
    "outputId": "3235b532-c280-486e-dfcf-5ecc38135c27"
   },
   "outputs": [],
   "source": [
    "# Daily events\n",
    "daily_events = data.groupby(['date', 'group'])['event_type'].count().unstack()\n",
    "ax = daily_events.plot(kind='bar', stacked=False, figsize=(12,6))\n",
    "ax.set_xticks(range(len(daily_events.index)))\n",
    "ax.set_xticklabels(daily_events.index.strftime('%Y-%m-%d'), rotation=45)\n",
    "plt.title('Daily events by group')\n",
    "plt.xlabel('Date')\n",
    "plt.ylabel('Number of events')\n",
    "plt.tight_layout()\n",
    "plt.show()"
   ]
  },
  {
   "cell_type": "markdown",
   "metadata": {
    "id": "s3zmMsRTUg6_"
   },
   "source": [
    "## 4. KPIs of interest\n",
    "\n",
    "- **Conversion Rate (CVR):** Measures the percentage of visits that result in a purchase, indicating the effectiveness of the recommendation system in driving sales.\n",
    "\n",
    "\\begin{equation}\n",
    "CVR = \\left(\\frac{\\text{Number of purchases}}{\\text{Number of visits}}\\right) \\times 100\\%\n",
    "\\end{equation}\n",
    "\n",
    "- **Average Order Value (AOV):** Represents the average revenue per purchase, reflecting customer spending behavior.\n",
    "\n",
    "\\begin{equation}\n",
    "AOV = \\frac{\\text{Total revenue}}{\\text{Number of purchases}}\n",
    "\\end{equation}\n",
    "\n",
    "- **Click-Through Rate (CTR):** Indicates how often users click on recommendations, showing engagement levels.\n",
    "\n",
    "\\begin{equation}\n",
    "CTR = \\left(\\frac{\\text{Number of clicks}}{\\text{Number of views}}\\right) \\times 100\\%\n",
    "\\end{equation}\n",
    "\n",
    "- **Daily Revenue:** Total revenue generated each day, essential for assessing the financial impact.\n",
    "\n",
    "### Why these KPIs matter\n",
    "\n",
    "- **Business alignment:** These KPIs directly relate to sales and user engagement, critical for business growth.\n",
    "- **Measurable iImpact:** They provide quantifiable metrics to evaluate the performance of the new model.\n",
    "- **Decision-Mmaking:** Help determine if the new model should replace the existing one based on data-driven insights."
   ]
  },
  {
   "cell_type": "markdown",
   "metadata": {
    "id": "yq22n4dPZGau"
   },
   "source": [
    "## 5. Experimentation process\n",
    "\n",
    "### Hypothesis Formulation:\n",
    "\n",
    "- **Null Hypothesis (H₀):** There is no significant difference in KPIs between the control and treatment groups.\n",
    "- **Alternative Hypothesis (H₁):** The treatment group shows a significant improvement in KPIs compared to the control group."
   ]
  },
  {
   "cell_type": "code",
   "execution_count": null,
   "metadata": {
    "colab": {
     "base_uri": "https://localhost:8080/",
     "height": 206
    },
    "id": "jMHqF_BoUJkL",
    "outputId": "85711318-c226-4af4-902d-1d7aa5550846"
   },
   "outputs": [],
   "source": [
    "# Calculate KPIs for each group\n",
    "grouped_data = data.groupby(['group', 'date'])\n",
    "\n",
    "kpi_data = grouped_data.apply(lambda x: pd.Series({\n",
    "    'views': np.sum(x['event_type'] == 'view'),\n",
    "    'clicks': np.sum(x['event_type'] == 'click'),\n",
    "    'purchases': np.sum(x['event_type'] == 'purchase'),\n",
    "    'revenue': x['revenue'].sum()\n",
    "})).reset_index()\n",
    "\n",
    "# Calculate KPIs\n",
    "kpi_data['CVR'] = (kpi_data['purchases'] / kpi_data['views']) * 100\n",
    "kpi_data['AOV'] = kpi_data['revenue'] / kpi_data['purchases']\n",
    "kpi_data['CTR'] = (kpi_data['clicks'] / kpi_data['views']) * 100\n",
    "\n",
    "# Handle divisions by zero\n",
    "kpi_data.replace([np.inf, -np.inf], np.nan, inplace=True)\n",
    "kpi_data.fillna(0, inplace=True)"
   ]
  },
  {
   "cell_type": "code",
   "execution_count": null,
   "metadata": {},
   "outputs": [],
   "source": [
    "kpi_data.sample(5)"
   ]
  },
  {
   "cell_type": "code",
   "execution_count": null,
   "metadata": {
    "id": "wrdiNIupZUFl"
   },
   "outputs": [],
   "source": [
    "# Separate data by group\n",
    "control_data = kpi_data[kpi_data['group'] == 'control']\n",
    "treatment_data = kpi_data[kpi_data['group'] == 'treatment']"
   ]
  },
  {
   "cell_type": "code",
   "execution_count": null,
   "metadata": {},
   "outputs": [],
   "source": [
    "# Plot Average Order Value over time\n",
    "plt.figure(figsize=(12,6))\n",
    "sns.lineplot(x='date', y='AOV', hue='group', data=kpi_data)\n",
    "plt.title('Daily Average Order Value (AOV) by group')\n",
    "plt.xlabel('Date')\n",
    "plt.ylabel('AOV')\n",
    "plt.xticks(rotation=45)\n",
    "plt.show()"
   ]
  },
  {
   "cell_type": "code",
   "execution_count": null,
   "metadata": {
    "colab": {
     "base_uri": "https://localhost:8080/"
    },
    "id": "prNd0YQWZttU",
    "outputId": "22221a15-38ef-4fd1-8e9f-12fa6420a7e2"
   },
   "outputs": [],
   "source": [
    "# t-test for AOV\n",
    "t_stat_aov, p_value_aov = ttest_ind(control_data['AOV'], treatment_data['AOV'])\n",
    "print('AOV t-test:')\n",
    "print(f'T-statistic: {t_stat_aov:.4f}')\n",
    "print(f'P-value: {p_value_aov:.4f}')"
   ]
  },
  {
   "cell_type": "code",
   "execution_count": null,
   "metadata": {
    "id": "AH0HU7bwZ5B7"
   },
   "outputs": [],
   "source": [
    "# Calculate contingency table\n",
    "cr_table = pd.DataFrame({\n",
    "    'Group': ['Control', 'Treatment'],\n",
    "    'Purchases': [control_data['purchases'].sum(), treatment_data['purchases'].sum()],\n",
    "    'Non-Purchases': [control_data['views'].sum() - control_data['purchases'].sum(),\n",
    "                      treatment_data['views'].sum() - treatment_data['purchases'].sum()]\n",
    "})"
   ]
  },
  {
   "cell_type": "code",
   "execution_count": null,
   "metadata": {
    "colab": {
     "base_uri": "https://localhost:8080/",
     "height": 125
    },
    "id": "t6sOhhA8aP87",
    "outputId": "a1c236f7-3a4a-40e9-bf5d-a7771bdc385b"
   },
   "outputs": [],
   "source": [
    "cr_table"
   ]
  },
  {
   "cell_type": "code",
   "execution_count": null,
   "metadata": {
    "colab": {
     "base_uri": "https://localhost:8080/"
    },
    "id": "HbKeETiRaRwS",
    "outputId": "21324b3c-a198-40bd-a152-7c446b1e46ca"
   },
   "outputs": [],
   "source": [
    "# Chi-Square test for CVR\n",
    "chi2_cr, p_value_cr, dof, expected = chi2_contingency(cr_table[['Purchases', 'Non-Purchases']])\n",
    "print('CVR chi-squared:')\n",
    "print(f'Chi-squared: {chi2_cr:.4f}')\n",
    "print(f'P-value: {p_value_cr:.4f}')"
   ]
  },
  {
   "cell_type": "markdown",
   "metadata": {
    "id": "Q-MmRLxLa0uK"
   },
   "source": [
    "## 6. Results analysis"
   ]
  },
  {
   "cell_type": "code",
   "execution_count": null,
   "metadata": {
    "colab": {
     "base_uri": "https://localhost:8080/",
     "height": 524
    },
    "id": "GusNW3auadaa",
    "outputId": "db7b1991-73e0-4049-a7a7-e3624e0e6b74"
   },
   "outputs": [],
   "source": [
    "# Plot Conversion Rate over time\n",
    "plt.figure(figsize=(12,6))\n",
    "sns.lineplot(x='date', y='CVR', hue='group', data=kpi_data)\n",
    "plt.title('Daily Conversion Rate (CVR) by group')\n",
    "plt.xlabel('Date')\n",
    "plt.ylabel('CVR (%)')\n",
    "plt.xticks(rotation=45)\n",
    "plt.show()"
   ]
  },
  {
   "cell_type": "code",
   "execution_count": null,
   "metadata": {
    "colab": {
     "base_uri": "https://localhost:8080/",
     "height": 524
    },
    "id": "OQr8xJFOa7I4",
    "outputId": "705cc3cd-414b-4a13-eb55-09f375763a27"
   },
   "outputs": [],
   "source": [
    "# Plot Daily Revenue over time\n",
    "plt.figure(figsize=(12,6))\n",
    "sns.lineplot(x='date', y='revenue', hue='group', data=kpi_data)\n",
    "plt.title('Daily Revenue by group')\n",
    "plt.xlabel('Date')\n",
    "plt.ylabel('Revenue')\n",
    "plt.xticks(rotation=45)\n",
    "plt.show()"
   ]
  },
  {
   "cell_type": "code",
   "execution_count": null,
   "metadata": {
    "colab": {
     "base_uri": "https://localhost:8080/",
     "height": 607
    },
    "id": "Xnqo7ePibFbz",
    "outputId": "20c0edbb-3ec4-4ec3-9058-7e951063d098"
   },
   "outputs": [],
   "source": [
    "# Ensure 'kpi_data' DataFrame is sorted by 'group' and 'date'\n",
    "kpi_data_sorted = kpi_data.sort_values(by=['group', 'date'])\n",
    "\n",
    "# Calculate cumulative revenue for each group\n",
    "kpi_data_sorted['cumulative_revenue'] = kpi_data_sorted.groupby('group')['revenue'].cumsum()\n",
    "\n",
    "# Plot cumulative daily revenue by group\n",
    "plt.figure(figsize=(12, 6))\n",
    "\n",
    "sns.lineplot(\n",
    "    x='date',\n",
    "    y='cumulative_revenue',\n",
    "    hue='group',\n",
    "    data=kpi_data_sorted,\n",
    "    marker='o'\n",
    ")\n",
    "\n",
    "plt.title('Cumulative Daily Revenue by Group')\n",
    "plt.xlabel('Date')\n",
    "plt.ylabel('Cumulative Revenue')\n",
    "plt.xticks(rotation=45)\n",
    "plt.legend(title='Group')\n",
    "plt.tight_layout()\n",
    "plt.show()"
   ]
  },
  {
   "cell_type": "code",
   "execution_count": null,
   "metadata": {
    "id": "va8233v5lpKv"
   },
   "outputs": [],
   "source": []
  }
 ],
 "metadata": {
  "colab": {
   "provenance": []
  },
  "kernelspec": {
   "display_name": "Python 3 (ipykernel)",
   "language": "python",
   "name": "python3"
  },
  "language_info": {
   "codemirror_mode": {
    "name": "ipython",
    "version": 3
   },
   "file_extension": ".py",
   "mimetype": "text/x-python",
   "name": "python",
   "nbconvert_exporter": "python",
   "pygments_lexer": "ipython3",
   "version": "3.11.7"
  }
 },
 "nbformat": 4,
 "nbformat_minor": 4
}
